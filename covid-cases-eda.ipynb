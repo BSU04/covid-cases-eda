{
 "cells": [
  {
   "cell_type": "code",
   "execution_count": 14,
   "id": "c6dfebdb",
   "metadata": {},
   "outputs": [],
   "source": [
    "import pandas as pd\n",
    "import numpy as np\n",
    "import matplotlib.pyplot as plt\n",
    "import seaborn as sns\n",
    "%matplotlib inline\n",
    "\n",
    "import missingno as msn"
   ]
  },
  {
   "cell_type": "code",
   "execution_count": 2,
   "id": "9f944ec3",
   "metadata": {},
   "outputs": [],
   "source": [
    "cc = pd.read_csv(\"covid-case-analysis.csv\")"
   ]
  },
  {
   "cell_type": "code",
   "execution_count": 3,
   "id": "e784c228",
   "metadata": {
    "scrolled": false
   },
   "outputs": [
    {
     "data": {
      "text/html": [
       "<div>\n",
       "<style scoped>\n",
       "    .dataframe tbody tr th:only-of-type {\n",
       "        vertical-align: middle;\n",
       "    }\n",
       "\n",
       "    .dataframe tbody tr th {\n",
       "        vertical-align: top;\n",
       "    }\n",
       "\n",
       "    .dataframe thead th {\n",
       "        text-align: right;\n",
       "    }\n",
       "</style>\n",
       "<table border=\"1\" class=\"dataframe\">\n",
       "  <thead>\n",
       "    <tr style=\"text-align: right;\">\n",
       "      <th></th>\n",
       "      <th>Country Name</th>\n",
       "      <th>Total Infected</th>\n",
       "      <th>Total Deaths</th>\n",
       "      <th>Total Recovered</th>\n",
       "      <th>Death %</th>\n",
       "      <th>Recovered %</th>\n",
       "    </tr>\n",
       "  </thead>\n",
       "  <tbody>\n",
       "    <tr>\n",
       "      <th>0</th>\n",
       "      <td>USA</td>\n",
       "      <td>47916190</td>\n",
       "      <td>783565</td>\n",
       "      <td>37918301.0</td>\n",
       "      <td>1.6</td>\n",
       "      <td>79.1</td>\n",
       "    </tr>\n",
       "    <tr>\n",
       "      <th>1</th>\n",
       "      <td>India</td>\n",
       "      <td>34447536</td>\n",
       "      <td>463655</td>\n",
       "      <td>33849785.0</td>\n",
       "      <td>1.3</td>\n",
       "      <td>98.3</td>\n",
       "    </tr>\n",
       "    <tr>\n",
       "      <th>2</th>\n",
       "      <td>Brazil</td>\n",
       "      <td>21957967</td>\n",
       "      <td>611318</td>\n",
       "      <td>21151342.0</td>\n",
       "      <td>2.8</td>\n",
       "      <td>96.3</td>\n",
       "    </tr>\n",
       "    <tr>\n",
       "      <th>3</th>\n",
       "      <td>UK</td>\n",
       "      <td>9561099</td>\n",
       "      <td>142898</td>\n",
       "      <td>7825200.0</td>\n",
       "      <td>1.5</td>\n",
       "      <td>81.8</td>\n",
       "    </tr>\n",
       "    <tr>\n",
       "      <th>4</th>\n",
       "      <td>Russia</td>\n",
       "      <td>9109094</td>\n",
       "      <td>256597</td>\n",
       "      <td>7812557.0</td>\n",
       "      <td>2.8</td>\n",
       "      <td>85.8</td>\n",
       "    </tr>\n",
       "    <tr>\n",
       "      <th>...</th>\n",
       "      <td>...</td>\n",
       "      <td>...</td>\n",
       "      <td>...</td>\n",
       "      <td>...</td>\n",
       "      <td>...</td>\n",
       "      <td>...</td>\n",
       "    </tr>\n",
       "    <tr>\n",
       "      <th>207</th>\n",
       "      <td>Vanuatu</td>\n",
       "      <td>6</td>\n",
       "      <td>1</td>\n",
       "      <td>3.0</td>\n",
       "      <td>16.7</td>\n",
       "      <td>50.0</td>\n",
       "    </tr>\n",
       "    <tr>\n",
       "      <th>208</th>\n",
       "      <td>Marshall Islands</td>\n",
       "      <td>4</td>\n",
       "      <td>0</td>\n",
       "      <td>4.0</td>\n",
       "      <td>0.0</td>\n",
       "      <td>100.0</td>\n",
       "    </tr>\n",
       "    <tr>\n",
       "      <th>209</th>\n",
       "      <td>Samoa</td>\n",
       "      <td>3</td>\n",
       "      <td>0</td>\n",
       "      <td>3.0</td>\n",
       "      <td>0.0</td>\n",
       "      <td>100.0</td>\n",
       "    </tr>\n",
       "    <tr>\n",
       "      <th>210</th>\n",
       "      <td>Micronesia</td>\n",
       "      <td>1</td>\n",
       "      <td>0</td>\n",
       "      <td>1.0</td>\n",
       "      <td>0.0</td>\n",
       "      <td>100.0</td>\n",
       "    </tr>\n",
       "    <tr>\n",
       "      <th>211</th>\n",
       "      <td>Tonga</td>\n",
       "      <td>1</td>\n",
       "      <td>0</td>\n",
       "      <td>NaN</td>\n",
       "      <td>0.0</td>\n",
       "      <td>0.0</td>\n",
       "    </tr>\n",
       "  </tbody>\n",
       "</table>\n",
       "<p>212 rows × 6 columns</p>\n",
       "</div>"
      ],
      "text/plain": [
       "         Country Name  Total Infected  Total Deaths  Total Recovered  Death %  \\\n",
       "0                 USA        47916190        783565       37918301.0      1.6   \n",
       "1               India        34447536        463655       33849785.0      1.3   \n",
       "2              Brazil        21957967        611318       21151342.0      2.8   \n",
       "3                  UK         9561099        142898        7825200.0      1.5   \n",
       "4              Russia         9109094        256597        7812557.0      2.8   \n",
       "..                ...             ...           ...              ...      ...   \n",
       "207           Vanuatu               6             1              3.0     16.7   \n",
       "208  Marshall Islands               4             0              4.0      0.0   \n",
       "209             Samoa               3             0              3.0      0.0   \n",
       "210        Micronesia               1             0              1.0      0.0   \n",
       "211             Tonga               1             0              NaN      0.0   \n",
       "\n",
       "     Recovered %  \n",
       "0           79.1  \n",
       "1           98.3  \n",
       "2           96.3  \n",
       "3           81.8  \n",
       "4           85.8  \n",
       "..           ...  \n",
       "207         50.0  \n",
       "208        100.0  \n",
       "209        100.0  \n",
       "210        100.0  \n",
       "211          0.0  \n",
       "\n",
       "[212 rows x 6 columns]"
      ]
     },
     "execution_count": 3,
     "metadata": {},
     "output_type": "execute_result"
    }
   ],
   "source": [
    "cc"
   ]
  },
  {
   "cell_type": "code",
   "execution_count": 4,
   "id": "b7da21dd",
   "metadata": {},
   "outputs": [
    {
     "data": {
      "text/plain": [
       "(212, 6)"
      ]
     },
     "execution_count": 4,
     "metadata": {},
     "output_type": "execute_result"
    }
   ],
   "source": [
    "cc.shape"
   ]
  },
  {
   "cell_type": "code",
   "execution_count": 5,
   "id": "d9359b05",
   "metadata": {},
   "outputs": [
    {
     "name": "stdout",
     "output_type": "stream",
     "text": [
      "<class 'pandas.core.frame.DataFrame'>\n",
      "RangeIndex: 212 entries, 0 to 211\n",
      "Data columns (total 6 columns):\n",
      " #   Column           Non-Null Count  Dtype  \n",
      "---  ------           --------------  -----  \n",
      " 0   Country Name     212 non-null    object \n",
      " 1   Total Infected   212 non-null    int64  \n",
      " 2   Total Deaths     212 non-null    int64  \n",
      " 3   Total Recovered  211 non-null    float64\n",
      " 4   Death %          212 non-null    float64\n",
      " 5   Recovered %      212 non-null    float64\n",
      "dtypes: float64(3), int64(2), object(1)\n",
      "memory usage: 10.1+ KB\n"
     ]
    }
   ],
   "source": [
    "cc.info()"
   ]
  },
  {
   "cell_type": "code",
   "execution_count": 6,
   "id": "9469d385",
   "metadata": {},
   "outputs": [
    {
     "data": {
      "text/html": [
       "<div>\n",
       "<style scoped>\n",
       "    .dataframe tbody tr th:only-of-type {\n",
       "        vertical-align: middle;\n",
       "    }\n",
       "\n",
       "    .dataframe tbody tr th {\n",
       "        vertical-align: top;\n",
       "    }\n",
       "\n",
       "    .dataframe thead th {\n",
       "        text-align: right;\n",
       "    }\n",
       "</style>\n",
       "<table border=\"1\" class=\"dataframe\">\n",
       "  <thead>\n",
       "    <tr style=\"text-align: right;\">\n",
       "      <th></th>\n",
       "      <th>Total Infected</th>\n",
       "      <th>Total Deaths</th>\n",
       "      <th>Total Recovered</th>\n",
       "      <th>Death %</th>\n",
       "      <th>Recovered %</th>\n",
       "    </tr>\n",
       "  </thead>\n",
       "  <tbody>\n",
       "    <tr>\n",
       "      <th>count</th>\n",
       "      <td>2.120000e+02</td>\n",
       "      <td>212.000000</td>\n",
       "      <td>2.110000e+02</td>\n",
       "      <td>212.000000</td>\n",
       "      <td>212.000000</td>\n",
       "    </tr>\n",
       "    <tr>\n",
       "      <th>mean</th>\n",
       "      <td>1.198016e+06</td>\n",
       "      <td>24131.419811</td>\n",
       "      <td>1.088647e+06</td>\n",
       "      <td>2.031604</td>\n",
       "      <td>85.644340</td>\n",
       "    </tr>\n",
       "    <tr>\n",
       "      <th>std</th>\n",
       "      <td>4.496011e+06</td>\n",
       "      <td>83029.117720</td>\n",
       "      <td>3.953385e+06</td>\n",
       "      <td>2.184476</td>\n",
       "      <td>21.942024</td>\n",
       "    </tr>\n",
       "    <tr>\n",
       "      <th>min</th>\n",
       "      <td>1.000000e+00</td>\n",
       "      <td>0.000000</td>\n",
       "      <td>1.000000e+00</td>\n",
       "      <td>0.000000</td>\n",
       "      <td>0.000000</td>\n",
       "    </tr>\n",
       "    <tr>\n",
       "      <th>25%</th>\n",
       "      <td>1.579950e+04</td>\n",
       "      <td>191.250000</td>\n",
       "      <td>1.213050e+04</td>\n",
       "      <td>0.900000</td>\n",
       "      <td>85.475000</td>\n",
       "    </tr>\n",
       "    <tr>\n",
       "      <th>50%</th>\n",
       "      <td>1.280125e+05</td>\n",
       "      <td>1888.000000</td>\n",
       "      <td>1.027160e+05</td>\n",
       "      <td>1.500000</td>\n",
       "      <td>94.750000</td>\n",
       "    </tr>\n",
       "    <tr>\n",
       "      <th>75%</th>\n",
       "      <td>5.756202e+05</td>\n",
       "      <td>11267.500000</td>\n",
       "      <td>5.314445e+05</td>\n",
       "      <td>2.500000</td>\n",
       "      <td>97.200000</td>\n",
       "    </tr>\n",
       "    <tr>\n",
       "      <th>max</th>\n",
       "      <td>4.791619e+07</td>\n",
       "      <td>783565.000000</td>\n",
       "      <td>3.791830e+07</td>\n",
       "      <td>19.400000</td>\n",
       "      <td>100.000000</td>\n",
       "    </tr>\n",
       "  </tbody>\n",
       "</table>\n",
       "</div>"
      ],
      "text/plain": [
       "       Total Infected   Total Deaths  Total Recovered     Death %  Recovered %\n",
       "count    2.120000e+02     212.000000     2.110000e+02  212.000000   212.000000\n",
       "mean     1.198016e+06   24131.419811     1.088647e+06    2.031604    85.644340\n",
       "std      4.496011e+06   83029.117720     3.953385e+06    2.184476    21.942024\n",
       "min      1.000000e+00       0.000000     1.000000e+00    0.000000     0.000000\n",
       "25%      1.579950e+04     191.250000     1.213050e+04    0.900000    85.475000\n",
       "50%      1.280125e+05    1888.000000     1.027160e+05    1.500000    94.750000\n",
       "75%      5.756202e+05   11267.500000     5.314445e+05    2.500000    97.200000\n",
       "max      4.791619e+07  783565.000000     3.791830e+07   19.400000   100.000000"
      ]
     },
     "execution_count": 6,
     "metadata": {},
     "output_type": "execute_result"
    }
   ],
   "source": [
    "cc.describe()"
   ]
  },
  {
   "cell_type": "code",
   "execution_count": 13,
   "id": "fd820f0c",
   "metadata": {},
   "outputs": [
    {
     "data": {
      "text/plain": [
       "Country Name       0\n",
       "Total Infected     0\n",
       "Total Deaths       0\n",
       "Total Recovered    1\n",
       "Death %            0\n",
       "Recovered %        0\n",
       "dtype: int64"
      ]
     },
     "execution_count": 13,
     "metadata": {},
     "output_type": "execute_result"
    }
   ],
   "source": [
    "cc.isnull().sum()"
   ]
  },
  {
   "cell_type": "code",
   "execution_count": 12,
   "id": "3d6996c7",
   "metadata": {},
   "outputs": [
    {
     "data": {
      "image/png": "[encoded data removed]",
      "text/plain": [
       "<Figure size 600x400 with 2 Axes>"
      ]
     },
     "metadata": {},
     "output_type": "display_data"
    }
   ],
   "source": [
    "plt.figure(figsize=(6,4))\n",
    "sns.heatmap(cc.corr(),annot=True,cmap=\"Blues\");"
   ]
  },
  {
   "cell_type": "markdown",
   "id": "d50ea5a7",
   "metadata": {},
   "source": [
    "### Which country is infected the most?"
   ]
  },
  {
   "cell_type": "markdown",
   "id": "7c981955",
   "metadata": {},
   "source": [
    "### Country with the highest deaths?"
   ]
  },
  {
   "cell_type": "code",
   "execution_count": null,
   "id": "655ed2f5",
   "metadata": {},
   "outputs": [],
   "source": []
  }
 ],
 "metadata": {
  "kernelspec": {
   "display_name": "Python 3 (ipykernel)",
   "language": "python",
   "name": "python3"
  },
  "language_info": {
   "codemirror_mode": {
    "name": "ipython",
    "version": 3
   },
   "file_extension": ".py",
   "mimetype": "text/x-python",
   "name": "python",
   "nbconvert_exporter": "python",
   "pygments_lexer": "ipython3",
   "version": "3.9.13"
  }
 },
 "nbformat": 4,
 "nbformat_minor": 5
}
